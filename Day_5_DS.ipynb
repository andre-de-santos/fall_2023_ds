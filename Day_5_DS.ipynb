{
 "cells": [
  {
   "cell_type": "markdown",
   "id": "f1a12b09",
   "metadata": {},
   "source": [
    "# Day 5\n",
    "* Basic Oporations\n",
    "* Int\n",
    "* Strings\n",
    "* list\n",
    "* data type"
   ]
  },
  {
   "cell_type": "markdown",
   "id": "0b8258a3",
   "metadata": {},
   "source": [
    "|First_Name|Last_Name|\n",
    "|----------|---------|\n",
    "|Andre     |De Santos|"
   ]
  },
  {
   "cell_type": "markdown",
   "id": "b3d57163",
   "metadata": {},
   "source": [
    "$S = \\sum_1^9(x^2)$"
   ]
  }
 ],
 "metadata": {
  "kernelspec": {
   "display_name": "Python 3 (ipykernel)",
   "language": "python",
   "name": "python3"
  },
  "language_info": {
   "codemirror_mode": {
    "name": "ipython",
    "version": 3
   },
   "file_extension": ".py",
   "mimetype": "text/x-python",
   "name": "python",
   "nbconvert_exporter": "python",
   "pygments_lexer": "ipython3",
   "version": "3.11.4"
  }
 },
 "nbformat": 4,
 "nbformat_minor": 5
}
